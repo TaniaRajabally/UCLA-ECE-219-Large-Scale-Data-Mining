{
  "cells": [
    {
      "cell_type": "markdown",
      "metadata": {
        "id": "63V9uWTSrZeh"
      },
      "source": [
        "# **Question 13**"
      ]
    },
    {
      "cell_type": "code",
      "execution_count": 2,
      "metadata": {
        "colab": {
          "base_uri": "https://localhost:8080/"
        },
        "id": "EkwPS1NUrPXt",
        "outputId": "6f8e4147-b1ef-42e6-810e-df5fc0ca7e3d"
      },
      "outputs": [
        {
          "output_type": "stream",
          "name": "stdout",
          "text": [
            "Requirement already satisfied: lightgbm in /usr/local/lib/python3.10/dist-packages (4.1.0)\n",
            "Requirement already satisfied: numpy in /usr/local/lib/python3.10/dist-packages (from lightgbm) (1.25.2)\n",
            "Requirement already satisfied: scipy in /usr/local/lib/python3.10/dist-packages (from lightgbm) (1.11.4)\n"
          ]
        }
      ],
      "source": [
        "!pip install lightgbm"
      ]
    },
    {
      "cell_type": "code",
      "source": [
        "#imports required in this project\n",
        "from sklearn.datasets import load_svmlight_file\n",
        "from sklearn.metrics import ndcg_score\n",
        "import numpy as np\n",
        "import matplotlib.pyplot as plt\n",
        "import lightgbm as lgb\n",
        "from sklearn.metrics import ndcg_score\n",
        "import pandas as pd\n",
        "from google.colab import drive"
      ],
      "metadata": {
        "id": "nF6kr6Ee-_R6"
      },
      "execution_count": 3,
      "outputs": []
    },
    {
      "cell_type": "code",
      "execution_count": 4,
      "metadata": {
        "colab": {
          "base_uri": "https://localhost:8080/"
        },
        "id": "twoBbK3VfY4M",
        "outputId": "4ac2c5ef-3270-4fda-a020-34e074547793"
      },
      "outputs": [
        {
          "output_type": "stream",
          "name": "stdout",
          "text": [
            "Drive already mounted at /content/gdrive; to attempt to forcibly remount, call drive.mount(\"/content/gdrive\", force_remount=True).\n"
          ]
        }
      ],
      "source": [
        "#mounting the drive\n",
        "drive.mount('/content/gdrive')"
      ]
    },
    {
      "cell_type": "code",
      "source": [
        "# Load the dataset for one fold\n",
        "def load_one_fold(data_path):\n",
        "    X_train, y_train, qid_train = load_svmlight_file(str(data_path + 'train.txt'), query_id=True)\n",
        "    X_test, y_test, qid_test = load_svmlight_file(str(data_path + 'test.txt'), query_id=True)\n",
        "    y_train = y_train.astype(int)\n",
        "    y_test = y_test.astype(int)\n",
        "    _, group_train = np.unique(qid_train, return_counts=True)\n",
        "    _, group_test = np.unique(qid_test, return_counts=True)\n",
        "    return X_train, y_train, qid_train, group_train, X_test, y_test, qid_test, group_test\n",
        "\n",
        "def ndcg_single_query(y_score, y_true, k):\n",
        "    order = np.argsort(y_score)[::-1]\n",
        "    y_true = np.take(y_true, order[:k])\n",
        "\n",
        "    gain = 2 ** y_true - 1\n",
        "\n",
        "    discounts = np.log2(np.arange(len(y_true)) + 2)\n",
        "    return np.sum(gain / discounts)\n",
        "\n",
        "# calculate NDCG score given a trained model\n",
        "def compute_ndcg_all(model, X_test, y_test, qids_test, k=10):\n",
        "    unique_qids = np.unique(qids_test)\n",
        "    ndcg_ = list()\n",
        "    for i, qid in enumerate(unique_qids):\n",
        "        y = y_test[qids_test == qid]\n",
        "\n",
        "        if np.sum(y) == 0:\n",
        "            continue\n",
        "\n",
        "        p = model.predict(X_test[qids_test == qid])\n",
        "\n",
        "        idcg = ndcg_single_query(y, y, k=k)\n",
        "        ndcg_.append(ndcg_single_query(p, y, k=k) / idcg)\n",
        "    return np.mean(ndcg_)\n",
        "\n",
        "# get importance of features\n",
        "def get_feature_importance(model, importance_type='gain'):\n",
        "    return model.feature_importance(importance_type=importance_type)"
      ],
      "metadata": {
        "id": "onLWAy_b_Lkz"
      },
      "execution_count": 5,
      "outputs": []
    },
    {
      "cell_type": "code",
      "execution_count": 6,
      "metadata": {
        "id": "1vr_Ws61fsu-"
      },
      "outputs": [],
      "source": [
        "#Giving the path to the wek10k folder\n",
        "web10k_path='gdrive/My Drive/Winter Quarter 2024/219 - Large Scale Data Mining/Project 3/MSLR-WEB10K'"
      ]
    },
    {
      "cell_type": "code",
      "execution_count": 7,
      "metadata": {
        "id": "SCXZy9jai7GY"
      },
      "outputs": [],
      "source": [
        "#Loading all the data from the folders\n",
        "X_train_fold1, y_train_fold1, qid_train_fold1, group_train_fold1, X_test_fold1, y_test_fold1, qid_test_fold1, group_test_fold1 = load_one_fold(web10k_path+'/Fold1/')\n",
        "X_train_fold2, y_train_fold2, qid_train_fold2, group_train_fold2, X_test_fold2, y_test_fold2, qid_test_fold2, group_test_fold2 = load_one_fold(web10k_path+'/Fold2/')\n",
        "X_train_fold3, y_train_fold3, qid_train_fold3, group_train_fold3, X_test_fold3, y_test_fold3, qid_test_fold3, group_test_fold3 = load_one_fold(web10k_path+'/Fold3/')\n",
        "X_train_fold4, y_train_fold4, qid_train_fold4, group_train_fold4, X_test_fold4, y_test_fold4, qid_test_fold4, group_test_fold4 = load_one_fold(web10k_path+'/Fold4/')\n",
        "X_train_fold5, y_train_fold5, qid_train_fold5, group_train_fold5, X_test_fold5, y_test_fold5, qid_test_fold5, group_test_fold5 = load_one_fold(web10k_path+'/Fold5/')"
      ]
    },
    {
      "cell_type": "code",
      "execution_count": 9,
      "metadata": {
        "colab": {
          "base_uri": "https://localhost:8080/"
        },
        "id": "xv-D7Q4KjEqT",
        "outputId": "595fb1f8-9863-4bf8-a15f-a77a4e8a3f5b"
      },
      "outputs": [
        {
          "output_type": "execute_result",
          "data": {
            "text/plain": [
              "<723412x136 sparse matrix of type '<class 'numpy.float64'>'\n",
              "\twith 98384032 stored elements in Compressed Sparse Row format>"
            ]
          },
          "metadata": {},
          "execution_count": 9
        }
      ],
      "source": [
        "X_train_fold1"
      ]
    },
    {
      "cell_type": "code",
      "source": [
        "#Combining all the qid_train of all the folders\n",
        "qid_train= np.concatenate((qid_train_fold1, qid_train_fold2, qid_train_fold3, qid_train_fold4, qid_train_fold5))\n",
        "print(qid_train.shape)"
      ],
      "metadata": {
        "colab": {
          "base_uri": "https://localhost:8080/"
        },
        "id": "7KcdHbAdT0YC",
        "outputId": "9a6ea001-559b-4bb2-998a-62ea01c4147c"
      },
      "execution_count": 10,
      "outputs": [
        {
          "output_type": "stream",
          "name": "stdout",
          "text": [
            "(3600576,)\n"
          ]
        }
      ]
    },
    {
      "cell_type": "code",
      "source": [
        "#Combining all the qid_test of all the folders\n",
        "qid_test = np.concatenate((qid_test_fold1, qid_test_fold2, qid_test_fold3, qid_test_fold4, qid_test_fold5))\n",
        "print(qid_test.shape)"
      ],
      "metadata": {
        "colab": {
          "base_uri": "https://localhost:8080/"
        },
        "id": "SQCNo9PbUB_Y",
        "outputId": "796c6da9-1176-46bc-ea74-be451b49fbd9"
      },
      "execution_count": 12,
      "outputs": [
        {
          "output_type": "stream",
          "name": "stdout",
          "text": [
            "(1200192,)\n"
          ]
        }
      ]
    },
    {
      "cell_type": "code",
      "source": [
        "#Combining all the y_train of all the folders\n",
        "y_train = np.concatenate((y_train_fold1, y_train_fold2, y_train_fold3, y_train_fold4, y_train_fold5))\n",
        "print(y_train.shape)"
      ],
      "metadata": {
        "colab": {
          "base_uri": "https://localhost:8080/"
        },
        "id": "iyA0WbWCVigS",
        "outputId": "9c213ccf-8285-4152-e47b-58a4a5d0cee0"
      },
      "execution_count": 13,
      "outputs": [
        {
          "output_type": "stream",
          "name": "stdout",
          "text": [
            "(3600576,)\n"
          ]
        }
      ]
    },
    {
      "cell_type": "code",
      "source": [
        "#Combining all the y_test of all the folders\n",
        "y_test = np.concatenate((y_test_fold1, y_test_fold2, y_test_fold3, y_test_fold4, y_test_fold5))\n",
        "print(y_test.shape)"
      ],
      "metadata": {
        "colab": {
          "base_uri": "https://localhost:8080/"
        },
        "id": "VIpvHLdZVkjE",
        "outputId": "ae651ac9-c3f0-4f59-a8ba-19c176aac9c8"
      },
      "execution_count": 14,
      "outputs": [
        {
          "output_type": "stream",
          "name": "stdout",
          "text": [
            "(1200192,)\n"
          ]
        }
      ]
    },
    {
      "cell_type": "code",
      "source": [
        "print(X_train_fold1.shape)"
      ],
      "metadata": {
        "colab": {
          "base_uri": "https://localhost:8080/"
        },
        "id": "D2Zkl8FbWHTL",
        "outputId": "6d39e6c1-cb2f-4b85-e529-60220ccfee1e"
      },
      "execution_count": 16,
      "outputs": [
        {
          "output_type": "stream",
          "name": "stdout",
          "text": [
            "(723412, 136)\n"
          ]
        }
      ]
    },
    {
      "cell_type": "code",
      "source": [
        "print(X_train_fold2.shape)"
      ],
      "metadata": {
        "colab": {
          "base_uri": "https://localhost:8080/"
        },
        "id": "p_lYo3VpWTTi",
        "outputId": "218fa47c-6007-4d42-9093-7d2571a2de4f"
      },
      "execution_count": 17,
      "outputs": [
        {
          "output_type": "stream",
          "name": "stdout",
          "text": [
            "(716683, 136)\n"
          ]
        }
      ]
    },
    {
      "cell_type": "code",
      "source": [
        "#Finding the number of unique queries in the training and testing set\n",
        "unique_queries_train = len(np.unique(qid_train))\n",
        "unique_queries_test = len(np.unique(qid_test))\n",
        "\n",
        "print(\"The number of unique queries in training set is\", unique_queries_train)\n",
        "print(\"The number of unique queries in testing set is\", unique_queries_test)"
      ],
      "metadata": {
        "colab": {
          "base_uri": "https://localhost:8080/"
        },
        "id": "S2lRXdV4Wpe0",
        "outputId": "618abf76-8043-46cd-daff-e7ef7d33837d"
      },
      "execution_count": 23,
      "outputs": [
        {
          "output_type": "stream",
          "name": "stdout",
          "text": [
            "The number of unique queries in training set is 10000\n",
            "The number of unique queries in testing set is 10000\n"
          ]
        }
      ]
    },
    {
      "cell_type": "code",
      "source": [
        "#Plotting a bar graph of the relevance labels and its frequency in the train data\n",
        "unique_relevance_train, no_of_train = np.unique(y_train, return_counts=True)\n",
        "\n",
        "plt.bar(unique_relevance_train, no_of_train)\n",
        "plt.title(\"Distribution of Relevance Labels in Train\")\n",
        "plt.xlabel(\"Relevance Labels\")\n",
        "plt.ylabel(\"Frequency\")\n",
        "plt.show()"
      ],
      "metadata": {
        "colab": {
          "base_uri": "https://localhost:8080/",
          "height": 472
        },
        "id": "w0xdzm6jW2Cq",
        "outputId": "98899b6a-1ad7-411e-8b4c-4b6709a99922"
      },
      "execution_count": 28,
      "outputs": [
        {
          "output_type": "display_data",
          "data": {
            "text/plain": [
              "<Figure size 640x480 with 1 Axes>"
            ],
            "image/png": "[encoded data removed]"
          },
          "metadata": {}
        }
      ]
    },
    {
      "cell_type": "code",
      "source": [
        "#Plotting a bar graph of the relevance labels and its frequency in the test data\n",
        "unique_relevance_test, no_of_test = np.unique(y_test, return_counts=True)\n",
        "plt.bar(unique_relevance_test, no_of_test)\n",
        "plt.title(\"Distribution of Relevance Labels in Test\")\n",
        "plt.xlabel(\"Relevance Labels\")\n",
        "plt.ylabel(\"Frequency\")\n",
        "plt.show()"
      ],
      "metadata": {
        "colab": {
          "base_uri": "https://localhost:8080/",
          "height": 472
        },
        "id": "DJoHqErpW4qA",
        "outputId": "992c057b-1dbb-47b4-8d87-a8febe1cc811"
      },
      "execution_count": 29,
      "outputs": [
        {
          "output_type": "display_data",
          "data": {
            "text/plain": [
              "<Figure size 640x480 with 1 Axes>"
            ],
            "image/png": "[encoded data removed]"
          },
          "metadata": {}
        }
      ]
    },
    {
      "cell_type": "markdown",
      "source": [
        "QUESTION 13:\n",
        "Data Understanding and Preprocessing:\n",
        "Use the provided helper code for loading and pre-processing Web10k data.\n",
        "Print out the number of unique queries in total and show distribution of relevance labels.\n",
        "\n",
        ">The number of unique queries in training set is 10000\\\n",
        "The number of unique queries in testing set is 10000\\\n",
        "Refer to the bar graphs above to see the distribution of relevance labels.\n"
      ],
      "metadata": {
        "id": "x87Y1u_UG8br"
      }
    },
    {
      "cell_type": "markdown",
      "source": [
        "# **Question 14**"
      ],
      "metadata": {
        "id": "tRwNMMVDXW8d"
      }
    },
    {
      "cell_type": "code",
      "source": [
        "data=[\n",
        "    (X_train_fold1, y_train_fold1, qid_train_fold1, group_train_fold1, X_test_fold1, y_test_fold1, qid_test_fold1, group_test_fold1),\n",
        "    (X_train_fold2, y_train_fold2, qid_train_fold2, group_train_fold2, X_test_fold2, y_test_fold2, qid_test_fold2, group_test_fold2),\n",
        "    (X_train_fold3, y_train_fold3, qid_train_fold3, group_train_fold3, X_test_fold3, y_test_fold3, qid_test_fold3, group_test_fold3),\n",
        "    (X_train_fold4, y_train_fold4, qid_train_fold4, group_train_fold4, X_test_fold4, y_test_fold4, qid_test_fold4, group_test_fold4),\n",
        "    (X_train_fold5, y_train_fold5, qid_train_fold5, group_train_fold5, X_test_fold5, y_test_fold5, qid_test_fold5, group_test_fold5)\n",
        "]"
      ],
      "metadata": {
        "id": "gSFvgV7qO3Oz"
      },
      "execution_count": 9,
      "outputs": []
    },
    {
      "cell_type": "code",
      "source": [
        "# Define LightGBM parameters\n",
        "params = {\n",
        "    'objective': 'lambdarank',\n",
        "    # Can add other parameters such as learning rate, max_depth, etc.\n",
        "}"
      ],
      "metadata": {
        "id": "Sko4pKlzO6Ua"
      },
      "execution_count": 11,
      "outputs": []
    },
    {
      "cell_type": "code",
      "source": [
        "ndcg_values=[]\n",
        "\n",
        "# Iterate over each fold\n",
        "for fold, (X_train, y_train, qid_train, group_train, X_test, y_test, qid_test, group_test) in enumerate(data):\n",
        "\n",
        "    # Create a LightGBM dataset for training\n",
        "    train_data = lgb.Dataset(X_train, label=y_train, group=group_train)\n",
        "\n",
        "    # Train the LightGBM model\n",
        "    gbm = lgb.train(params, train_data)\n",
        "\n",
        "    # Evaluate the predictions using nDCG@3, nDCG@5, and nDCG@10\n",
        "    ndcg_3 = compute_ndcg_all(gbm,X_test, y_test, qid_test, k=3)\n",
        "    ndcg_5 = compute_ndcg_all(gbm,X_test, y_test, qid_test, k=5)\n",
        "    ndcg_10 = compute_ndcg_all(gmb,X_test, y_test, qid_test, k=10)\n",
        "\n",
        "    ndcg_values.append([ndcg_3, ndcg_5, ndcg_10])\n",
        "\n",
        "    # Report the model's performance on the test set\n",
        "    print(f\"Fold {fold + 1}:\")\n",
        "    print(f\"nDCG@3: {ndcg_3}\")\n",
        "    print(f\"nDCG@5: {ndcg_5}\")\n",
        "    print(f\"nDCG@10: {ndcg_10}\")\n",
        "    print(\"-----------------------------------------\")"
      ],
      "metadata": {
        "colab": {
          "base_uri": "https://localhost:8080/"
        },
        "id": "UKewQTqDXyyw",
        "outputId": "5bf4fcaa-6c6b-4a3b-a661-2170720f7c55"
      },
      "execution_count": 33,
      "outputs": [
        {
          "output_type": "stream",
          "name": "stdout",
          "text": [
            "[LightGBM] [Info] Auto-choosing col-wise multi-threading, the overhead of testing was 1.552402 seconds.\n",
            "You can set `force_col_wise=true` to remove the overhead.\n",
            "[LightGBM] [Info] Total Bins 25637\n",
            "[LightGBM] [Info] Number of data points in the train set: 723412, number of used features: 136\n",
            "Fold 1:\n",
            "nDCG@3: 0.4564571300800643\n",
            "nDCG@5: 0.4632890672260867\n",
            "nDCG@10: 0.48286731451235976\n",
            "-----------------------------------------\n",
            "[LightGBM] [Info] Auto-choosing row-wise multi-threading, the overhead of testing was 0.511309 seconds.\n",
            "You can set `force_row_wise=true` to remove the overhead.\n",
            "And if memory is not enough, you can set `force_col_wise=true`.\n",
            "[LightGBM] [Info] Total Bins 25623\n",
            "[LightGBM] [Info] Number of data points in the train set: 716683, number of used features: 136\n",
            "Fold 2:\n",
            "nDCG@3: 0.4538895365009714\n",
            "nDCG@5: 0.4573292117374164\n",
            "nDCG@10: 0.4767546810011047\n",
            "-----------------------------------------\n",
            "[LightGBM] [Info] Auto-choosing row-wise multi-threading, the overhead of testing was 0.440339 seconds.\n",
            "You can set `force_row_wise=true` to remove the overhead.\n",
            "And if memory is not enough, you can set `force_col_wise=true`.\n",
            "[LightGBM] [Info] Total Bins 25659\n",
            "[LightGBM] [Info] Number of data points in the train set: 719111, number of used features: 136\n",
            "Fold 3:\n",
            "nDCG@3: 0.4490681494620125\n",
            "nDCG@5: 0.4583480538865081\n",
            "nDCG@10: 0.47589507831078093\n",
            "-----------------------------------------\n",
            "[LightGBM] [Info] Auto-choosing row-wise multi-threading, the overhead of testing was 0.598231 seconds.\n",
            "You can set `force_row_wise=true` to remove the overhead.\n",
            "And if memory is not enough, you can set `force_col_wise=true`.\n",
            "[LightGBM] [Info] Total Bins 25631\n",
            "[LightGBM] [Info] Number of data points in the train set: 718768, number of used features: 136\n",
            "Fold 4:\n",
            "nDCG@3: 0.461178820507814\n",
            "nDCG@5: 0.4663860127875315\n",
            "nDCG@10: 0.487724614983737\n",
            "-----------------------------------------\n",
            "[LightGBM] [Info] Auto-choosing row-wise multi-threading, the overhead of testing was 0.436681 seconds.\n",
            "You can set `force_row_wise=true` to remove the overhead.\n",
            "And if memory is not enough, you can set `force_col_wise=true`.\n",
            "[LightGBM] [Info] Total Bins 25501\n",
            "[LightGBM] [Info] Number of data points in the train set: 722602, number of used features: 136\n",
            "Fold 5:\n",
            "nDCG@3: 0.46963442883961365\n",
            "nDCG@5: 0.4714315145908388\n",
            "nDCG@10: 0.49035928048966515\n",
            "-----------------------------------------\n"
          ]
        }
      ]
    },
    {
      "cell_type": "code",
      "source": [
        "#Printing the values for all the folders\n",
        "for fold in range(5):\n",
        "  print(f\"Fold {fold + 1}:\")\n",
        "  print(f\"nDCG@3: {ndcg_values[fold][0]}\")\n",
        "  print(f\"nDCG@5: {ndcg_values[fold][1]}\")\n",
        "  print(f\"nDCG@10: {ndcg_values[fold][2]}\")\n",
        "  print(\"-----------------------------------------\")"
      ],
      "metadata": {
        "colab": {
          "base_uri": "https://localhost:8080/"
        },
        "id": "qGtR8itbb8XB",
        "outputId": "5d827e1c-1f0d-4318-a2e6-47bb6519d35e"
      },
      "execution_count": 34,
      "outputs": [
        {
          "output_type": "stream",
          "name": "stdout",
          "text": [
            "Fold 1:\n",
            "nDCG@3: 0.4564571300800643\n",
            "nDCG@5: 0.4632890672260867\n",
            "nDCG@10: 0.48286731451235976\n",
            "-----------------------------------------\n",
            "Fold 2:\n",
            "nDCG@3: 0.4538895365009714\n",
            "nDCG@5: 0.4573292117374164\n",
            "nDCG@10: 0.4767546810011047\n",
            "-----------------------------------------\n",
            "Fold 3:\n",
            "nDCG@3: 0.4490681494620125\n",
            "nDCG@5: 0.4583480538865081\n",
            "nDCG@10: 0.47589507831078093\n",
            "-----------------------------------------\n",
            "Fold 4:\n",
            "nDCG@3: 0.461178820507814\n",
            "nDCG@5: 0.4663860127875315\n",
            "nDCG@10: 0.487724614983737\n",
            "-----------------------------------------\n",
            "Fold 5:\n",
            "nDCG@3: 0.46963442883961365\n",
            "nDCG@5: 0.4714315145908388\n",
            "nDCG@10: 0.49035928048966515\n",
            "-----------------------------------------\n"
          ]
        }
      ]
    },
    {
      "cell_type": "markdown",
      "source": [
        "QUESTION 14:\n",
        "LightGBM Model Training:\n",
        "For each of the five provided folds, train a LightGBM model using the ’lambdarank’ objective. After training, evaluate and report the model’s performance on the test set using nDCG@3, nDCG@5 and nDCG@10.\n",
        "\n",
        ">Fold 1:\\\n",
        "nDCG@3: 0.4564571300800643\\\n",
        "nDCG@5: 0.4632890672260867\\\n",
        "nDCG@10: 0.48286731451235976\n",
        "\n",
        ">Fold 2:\\\n",
        "nDCG@3: 0.4538895365009714\\\n",
        "nDCG@5: 0.4573292117374164\\\n",
        "nDCG@10: 0.4767546810011047\n",
        "\n",
        ">Fold 3:\\\n",
        "nDCG@3: 0.4490681494620125\\\n",
        "nDCG@5: 0.4583480538865081\\\n",
        "nDCG@10: 0.47589507831078093\n",
        "\n",
        ">Fold 4:\\\n",
        "nDCG@3: 0.461178820507814\\\n",
        "nDCG@5: 0.4663860127875315\\\n",
        "nDCG@10: 0.487724614983737\n",
        "\n",
        ">Fold 5:\\\n",
        "nDCG@3: 0.46963442883961365\\\n",
        "nDCG@5: 0.4714315145908388\\\n",
        "nDCG@10: 0.49035928048966515\n"
      ],
      "metadata": {
        "id": "geWI7YUhHIEJ"
      }
    },
    {
      "cell_type": "markdown",
      "source": [
        "# **Question 15**"
      ],
      "metadata": {
        "id": "sgr94M5lc_jV"
      }
    },
    {
      "cell_type": "code",
      "source": [
        "#CHANGED HELPED CODE REMOVED booster_ ------- CHECK????\n",
        "top_5_features=[]\n",
        "# Iterate over each fold\n",
        "for fold, (X_train, y_train, qid_train, group_train, X_test, y_test, qid_test, group_test) in enumerate(data):\n",
        "\n",
        "    # Create a LightGBM dataset for training\n",
        "    train_data = lgb.Dataset(X_train, label=y_train, group=group_train)\n",
        "\n",
        "    # Train the LightGBM model\n",
        "    gbm = lgb.train(params, train_data)\n",
        "    # Get feature importance scores\n",
        "    importance_scores = get_feature_importance(gbm, importance_type='gain')\n",
        "\n",
        "    # Create a list of feature names\n",
        "    feature_names = gbm.feature_name()\n",
        "\n",
        "    # Create a dictionary mapping feature names to importance scores\n",
        "    feature_importance_dict = dict(zip(feature_names, importance_scores))\n",
        "\n",
        "    # Sort the feature importance dictionary by importance score in descending order\n",
        "    sorted_feature_importance = sorted(feature_importance_dict.items(), key=lambda x: x[1], reverse=True)\n",
        "\n",
        "    # Print the top 5 most important features for the current fold\n",
        "    print(f\"Fold {fold + 1}:\")\n",
        "    features=[]\n",
        "    for feature, score in sorted_feature_importance[:5]:\n",
        "        print(f\"{feature}: {score}\")\n",
        "        features.append((feature,score))\n",
        "    top_5_features.append(features)"
      ],
      "metadata": {
        "colab": {
          "base_uri": "https://localhost:8080/"
        },
        "id": "hH9KIIrSdAry",
        "outputId": "cdacabda-8dd7-4106-d3de-d9a8e2131988"
      },
      "execution_count": 42,
      "outputs": [
        {
          "output_type": "stream",
          "name": "stdout",
          "text": [
            "[LightGBM] [Info] Auto-choosing row-wise multi-threading, the overhead of testing was 0.442188 seconds.\n",
            "You can set `force_row_wise=true` to remove the overhead.\n",
            "And if memory is not enough, you can set `force_col_wise=true`.\n",
            "[LightGBM] [Info] Total Bins 25637\n",
            "[LightGBM] [Info] Number of data points in the train set: 723412, number of used features: 136\n",
            "Fold 1:\n",
            "Column_133: 23856.702950954437\n",
            "Column_7: 4248.546391487122\n",
            "Column_107: 4135.244449853897\n",
            "Column_54: 4078.463216304779\n",
            "Column_129: 3635.03702378273\n",
            "[LightGBM] [Info] Auto-choosing row-wise multi-threading, the overhead of testing was 0.525960 seconds.\n",
            "You can set `force_row_wise=true` to remove the overhead.\n",
            "And if memory is not enough, you can set `force_col_wise=true`.\n",
            "[LightGBM] [Info] Total Bins 25623\n",
            "[LightGBM] [Info] Number of data points in the train set: 716683, number of used features: 136\n",
            "Fold 2:\n",
            "Column_133: 23578.90825009346\n",
            "Column_7: 5157.964912414551\n",
            "Column_54: 4386.669756650925\n",
            "Column_107: 4094.0121722221375\n",
            "Column_129: 4035.0706725120544\n",
            "[LightGBM] [Info] Auto-choosing row-wise multi-threading, the overhead of testing was 0.457299 seconds.\n",
            "You can set `force_row_wise=true` to remove the overhead.\n",
            "And if memory is not enough, you can set `force_col_wise=true`.\n",
            "[LightGBM] [Info] Total Bins 25659\n",
            "[LightGBM] [Info] Number of data points in the train set: 719111, number of used features: 136\n",
            "Fold 3:\n",
            "Column_133: 23218.075441122055\n",
            "Column_54: 4991.3033719062805\n",
            "Column_107: 4226.807395458221\n",
            "Column_129: 4059.7525141239166\n",
            "Column_7: 3691.792320251465\n",
            "[LightGBM] [Info] Auto-choosing row-wise multi-threading, the overhead of testing was 0.465097 seconds.\n",
            "You can set `force_row_wise=true` to remove the overhead.\n",
            "And if memory is not enough, you can set `force_col_wise=true`.\n",
            "[LightGBM] [Info] Total Bins 25631\n",
            "[LightGBM] [Info] Number of data points in the train set: 718768, number of used features: 136\n",
            "Fold 4:\n",
            "Column_133: 23796.899673223495\n",
            "Column_7: 4622.622978448868\n",
            "Column_54: 3883.4817056655884\n",
            "Column_129: 3356.8469800949097\n",
            "Column_128: 3207.5755367279053\n",
            "[LightGBM] [Info] Auto-choosing row-wise multi-threading, the overhead of testing was 0.455548 seconds.\n",
            "You can set `force_row_wise=true` to remove the overhead.\n",
            "And if memory is not enough, you can set `force_col_wise=true`.\n",
            "[LightGBM] [Info] Total Bins 25501\n",
            "[LightGBM] [Info] Number of data points in the train set: 722602, number of used features: 136\n",
            "Fold 5:\n",
            "Column_133: 23540.94235444069\n",
            "Column_7: 4794.9451723098755\n",
            "Column_54: 4079.608554124832\n",
            "Column_107: 3514.8357515335083\n",
            "Column_129: 3209.0584440231323\n"
          ]
        }
      ]
    },
    {
      "cell_type": "code",
      "source": [
        "#Printing the top 5 features and their respective scores for all the 5 folders\n",
        "for fold in range(5):\n",
        "  print(f\"Fold {fold + 1} - Top 5 features :\")\n",
        "  print(top_5_features[fold])\n",
        "  print(\"-----------------------------------------\")"
      ],
      "metadata": {
        "colab": {
          "base_uri": "https://localhost:8080/"
        },
        "id": "Q1BnwF3OeKxR",
        "outputId": "023ee964-aba5-404d-ed70-7bf3c22a2534"
      },
      "execution_count": 43,
      "outputs": [
        {
          "output_type": "stream",
          "name": "stdout",
          "text": [
            "Fold 1 - Top 5 features :\n",
            "[('Column_133', 23856.702950954437), ('Column_7', 4248.546391487122), ('Column_107', 4135.244449853897), ('Column_54', 4078.463216304779), ('Column_129', 3635.03702378273)]\n",
            "-----------------------------------------\n",
            "Fold 2 - Top 5 features :\n",
            "[('Column_133', 23578.90825009346), ('Column_7', 5157.964912414551), ('Column_54', 4386.669756650925), ('Column_107', 4094.0121722221375), ('Column_129', 4035.0706725120544)]\n",
            "-----------------------------------------\n",
            "Fold 3 - Top 5 features :\n",
            "[('Column_133', 23218.075441122055), ('Column_54', 4991.3033719062805), ('Column_107', 4226.807395458221), ('Column_129', 4059.7525141239166), ('Column_7', 3691.792320251465)]\n",
            "-----------------------------------------\n",
            "Fold 4 - Top 5 features :\n",
            "[('Column_133', 23796.899673223495), ('Column_7', 4622.622978448868), ('Column_54', 3883.4817056655884), ('Column_129', 3356.8469800949097), ('Column_128', 3207.5755367279053)]\n",
            "-----------------------------------------\n",
            "Fold 5 - Top 5 features :\n",
            "[('Column_133', 23540.94235444069), ('Column_7', 4794.9451723098755), ('Column_54', 4079.608554124832), ('Column_107', 3514.8357515335083), ('Column_129', 3209.0584440231323)]\n",
            "-----------------------------------------\n"
          ]
        }
      ]
    },
    {
      "cell_type": "markdown",
      "source": [
        "QUESTION 15:\n",
        "Result Analysis and Interpretation:\n",
        "For each of the five provided folds, list top 5 most important features of the model based on the importance score. Please use model.booster .feature importance(importance type=’gain’) as demonstrated here for retrieving importance score per feature. You can also find helper code in the provided notebook.\n",
        "\n",
        "> Below are the top 5 features and their respective scores:\n",
        "\n",
        ">Fold 1 - Top 5 features :\\\n",
        "[('Column_133', 23856.702950954437),\\\n",
        "('Column_7', 4248.546391487122),\\\n",
        "('Column_107', 4135.244449853897),\\\n",
        "('Column_54', 4078.463216304779),\\\n",
        "('Column_129', 3635.03702378273)]\n",
        "\n",
        ">Fold 2 - Top 5 features :\\\n",
        "[('Column_133', 23578.90825009346),\\\n",
        "('Column_7', 5157.964912414551),\\\n",
        "('Column_54', 4386.669756650925),\\\n",
        "('Column_107', 4094.0121722221375),\\\n",
        "('Column_129', 4035.0706725120544)]\n",
        "\n",
        ">Fold 3 - Top 5 features :\\\n",
        "[('Column_133', 23218.075441122055),\\\n",
        "('Column_54', 4991.3033719062805),\\\n",
        "('Column_107', 4226.807395458221),\\\n",
        "('Column_129', 4059.7525141239166),\\\n",
        "('Column_7', 3691.792320251465)]\n",
        "\n",
        ">Fold 4 - Top 5 features :\\\n",
        "[('Column_133', 23796.899673223495),\\\n",
        "('Column_7', 4622.622978448868),\\\n",
        "('Column_54', 3883.4817056655884),\\\n",
        "('Column_129', 3356.8469800949097),\\\n",
        "('Column_128', 3207.5755367279053)]\n",
        "\n",
        ">Fold 5 - Top 5 features :\\\n",
        "[('Column_133', 23540.94235444069),\\\n",
        "('Column_7', 4794.9451723098755),\\\n",
        "('Column_54', 4079.608554124832),\\\n",
        "('Column_107', 3514.8357515335083),\\\n",
        "('Column_129', 3209.0584440231323)]\n"
      ],
      "metadata": {
        "id": "TV5APMb1JDr8"
      }
    },
    {
      "cell_type": "markdown",
      "source": [
        "# **Question 16**"
      ],
      "metadata": {
        "id": "d77yczWXlIoG"
      }
    },
    {
      "cell_type": "code",
      "source": [
        "#Removing the top 20 features and then finding the ndcg values for the reduced dataset\n",
        "ndcg_values = []\n",
        "# Iterate over each fold\n",
        "for fold, (X_train, y_train, qid_train, group_train, X_test, y_test, qid_test, group_test) in enumerate(data):\n",
        "\n",
        "    train_data = lgb.Dataset(X_train, label=y_train, group=group_train)\n",
        "    gbm = lgb.train(params, train_data)\n",
        "    importance_scores = gbm.feature_importance(importance_type='gain')\n",
        "\n",
        "    # Extract the top 20 most important features\n",
        "    top_20_features = np.argsort(importance_scores)[-20:][::-1]\n",
        "\n",
        "    remaining_feature_indices = sorted(set(range(X_train.shape[1])) - set(top_20_features))\n",
        "    X_train_reduced = X_train[:, remaining_feature_indices]\n",
        "    X_test_reduced = X_test[:, remaining_feature_indices]\n",
        "\n",
        "    # Remove the top 20 most important features from the dataset\n",
        "\n",
        "    train_data_reduced = lgb.Dataset(X_train_reduced, label=y_train, group=group_train)\n",
        "    gbm_reduced = lgb.train(params, train_data_reduced)\n",
        "\n",
        "    # Evaluate the performance of the new model on the test set using nDCG\n",
        "    ndcg_3 = compute_ndcg_all(gbm_reduced,X_test_reduced, y_test, qid_test, k=3)\n",
        "    ndcg_5 = compute_ndcg_all(gbm_reduced,X_test_reduced, y_test, qid_test, k=5)\n",
        "    ndcg_10 = compute_ndcg_all(gbm_reduced,X_test_reduced, y_test, qid_test, k=10)\n",
        "\n",
        "    ndcg_values.append([ndcg_3, ndcg_5, ndcg_10])\n",
        "\n",
        "    # Report the model's performance on the test set\n",
        "    print(f\"Fold {fold + 1}:\")\n",
        "    print(f\"nDCG@3: {ndcg_3}\")\n",
        "    print(f\"nDCG@5: {ndcg_5}\")\n",
        "    print(f\"nDCG@10: {ndcg_10}\")\n",
        "    print(\"-----------------------------------------\")\n"
      ],
      "metadata": {
        "colab": {
          "base_uri": "https://localhost:8080/"
        },
        "id": "ZQPN457WlLjF",
        "outputId": "4c780d85-15f8-4816-f372-a74145da3782"
      },
      "execution_count": 13,
      "outputs": [
        {
          "output_type": "stream",
          "name": "stdout",
          "text": [
            "[LightGBM] [Info] Auto-choosing row-wise multi-threading, the overhead of testing was 0.573596 seconds.\n",
            "You can set `force_row_wise=true` to remove the overhead.\n",
            "And if memory is not enough, you can set `force_col_wise=true`.\n",
            "[LightGBM] [Info] Total Bins 25637\n",
            "[LightGBM] [Info] Number of data points in the train set: 723412, number of used features: 136\n",
            "[LightGBM] [Info] Auto-choosing row-wise multi-threading, the overhead of testing was 0.519905 seconds.\n",
            "You can set `force_row_wise=true` to remove the overhead.\n",
            "And if memory is not enough, you can set `force_col_wise=true`.\n",
            "[LightGBM] [Info] Total Bins 21582\n",
            "[LightGBM] [Info] Number of data points in the train set: 723412, number of used features: 116\n",
            "Fold 1:\n",
            "nDCG@3: 0.37967488460229254\n",
            "nDCG@5: 0.3850299691938894\n",
            "nDCG@10: 0.4083636029390886\n",
            "-----------------------------------------\n",
            "[LightGBM] [Info] Auto-choosing row-wise multi-threading, the overhead of testing was 0.776973 seconds.\n",
            "You can set `force_row_wise=true` to remove the overhead.\n",
            "And if memory is not enough, you can set `force_col_wise=true`.\n",
            "[LightGBM] [Info] Total Bins 25623\n",
            "[LightGBM] [Info] Number of data points in the train set: 716683, number of used features: 136\n",
            "[LightGBM] [Info] Auto-choosing row-wise multi-threading, the overhead of testing was 0.461926 seconds.\n",
            "You can set `force_row_wise=true` to remove the overhead.\n",
            "And if memory is not enough, you can set `force_col_wise=true`.\n",
            "[LightGBM] [Info] Total Bins 21551\n",
            "[LightGBM] [Info] Number of data points in the train set: 716683, number of used features: 116\n",
            "Fold 2:\n",
            "nDCG@3: 0.3739449461043477\n",
            "nDCG@5: 0.3819536013454118\n",
            "nDCG@10: 0.4045026694861529\n",
            "-----------------------------------------\n",
            "[LightGBM] [Info] Auto-choosing row-wise multi-threading, the overhead of testing was 0.424079 seconds.\n",
            "You can set `force_row_wise=true` to remove the overhead.\n",
            "And if memory is not enough, you can set `force_col_wise=true`.\n",
            "[LightGBM] [Info] Total Bins 25659\n",
            "[LightGBM] [Info] Number of data points in the train set: 719111, number of used features: 136\n",
            "[LightGBM] [Info] Auto-choosing row-wise multi-threading, the overhead of testing was 0.570663 seconds.\n",
            "You can set `force_row_wise=true` to remove the overhead.\n",
            "And if memory is not enough, you can set `force_col_wise=true`.\n",
            "[LightGBM] [Info] Total Bins 21720\n",
            "[LightGBM] [Info] Number of data points in the train set: 719111, number of used features: 116\n",
            "Fold 3:\n",
            "nDCG@3: 0.3823833692306899\n",
            "nDCG@5: 0.3899961152757789\n",
            "nDCG@10: 0.4116363812695088\n",
            "-----------------------------------------\n",
            "[LightGBM] [Info] Auto-choosing row-wise multi-threading, the overhead of testing was 0.639413 seconds.\n",
            "You can set `force_row_wise=true` to remove the overhead.\n",
            "And if memory is not enough, you can set `force_col_wise=true`.\n",
            "[LightGBM] [Info] Total Bins 25631\n",
            "[LightGBM] [Info] Number of data points in the train set: 718768, number of used features: 136\n",
            "[LightGBM] [Info] Auto-choosing row-wise multi-threading, the overhead of testing was 0.398006 seconds.\n",
            "You can set `force_row_wise=true` to remove the overhead.\n",
            "And if memory is not enough, you can set `force_col_wise=true`.\n",
            "[LightGBM] [Info] Total Bins 21670\n",
            "[LightGBM] [Info] Number of data points in the train set: 718768, number of used features: 116\n",
            "Fold 4:\n",
            "nDCG@3: 0.381976845689231\n",
            "nDCG@5: 0.39281004672399866\n",
            "nDCG@10: 0.4121071637228934\n",
            "-----------------------------------------\n",
            "[LightGBM] [Info] Auto-choosing row-wise multi-threading, the overhead of testing was 0.613640 seconds.\n",
            "You can set `force_row_wise=true` to remove the overhead.\n",
            "And if memory is not enough, you can set `force_col_wise=true`.\n",
            "[LightGBM] [Info] Total Bins 25501\n",
            "[LightGBM] [Info] Number of data points in the train set: 722602, number of used features: 136\n",
            "[LightGBM] [Info] Auto-choosing row-wise multi-threading, the overhead of testing was 0.407307 seconds.\n",
            "You can set `force_row_wise=true` to remove the overhead.\n",
            "And if memory is not enough, you can set `force_col_wise=true`.\n",
            "[LightGBM] [Info] Total Bins 21348\n",
            "[LightGBM] [Info] Number of data points in the train set: 722602, number of used features: 116\n",
            "Fold 5:\n",
            "nDCG@3: 0.38428336621785103\n",
            "nDCG@5: 0.39216767580543455\n",
            "nDCG@10: 0.4166871494621703\n",
            "-----------------------------------------\n"
          ]
        }
      ]
    },
    {
      "cell_type": "code",
      "source": [
        "#Printing the values after removing the top 20 features and then finding the ndcg values for the reduced dataset\n",
        "for fold in range(5):\n",
        "  print(f\"Fold {fold + 1}:\")\n",
        "  print(f\"nDCG@3: {ndcg_values[fold][0]}\")\n",
        "  print(f\"nDCG@5: {ndcg_values[fold][1]}\")\n",
        "  print(f\"nDCG@10: {ndcg_values[fold][2]}\")\n",
        "  print(\"-----------------------------------------\")"
      ],
      "metadata": {
        "colab": {
          "base_uri": "https://localhost:8080/"
        },
        "id": "DXUwani3xftt",
        "outputId": "6b743a95-b9ac-4c50-c938-fc480df763d6"
      },
      "execution_count": 14,
      "outputs": [
        {
          "output_type": "stream",
          "name": "stdout",
          "text": [
            "Fold 1:\n",
            "nDCG@3: 0.37967488460229254\n",
            "nDCG@5: 0.3850299691938894\n",
            "nDCG@10: 0.4083636029390886\n",
            "-----------------------------------------\n",
            "Fold 2:\n",
            "nDCG@3: 0.3739449461043477\n",
            "nDCG@5: 0.3819536013454118\n",
            "nDCG@10: 0.4045026694861529\n",
            "-----------------------------------------\n",
            "Fold 3:\n",
            "nDCG@3: 0.3823833692306899\n",
            "nDCG@5: 0.3899961152757789\n",
            "nDCG@10: 0.4116363812695088\n",
            "-----------------------------------------\n",
            "Fold 4:\n",
            "nDCG@3: 0.381976845689231\n",
            "nDCG@5: 0.39281004672399866\n",
            "nDCG@10: 0.4121071637228934\n",
            "-----------------------------------------\n",
            "Fold 5:\n",
            "nDCG@3: 0.38428336621785103\n",
            "nDCG@5: 0.39216767580543455\n",
            "nDCG@10: 0.4166871494621703\n",
            "-----------------------------------------\n"
          ]
        }
      ]
    },
    {
      "cell_type": "code",
      "source": [
        "#Removing the bottom 60 features and then finding the ndcg values for the reduced dataset\n",
        "ndcg_values = []\n",
        "# Iterate over each fold\n",
        "for fold, (X_train, y_train, qid_train, group_train, X_test, y_test, qid_test, group_test) in enumerate(data):\n",
        "\n",
        "    train_data = lgb.Dataset(X_train, label=y_train, group=group_train)\n",
        "    gbm = lgb.train(params, train_data)\n",
        "    importance_scores = gbm.feature_importance(importance_type='gain')\n",
        "\n",
        "    bottom_60_features = np.argsort(importance_scores)[:60]\n",
        "\n",
        "    remaining_feature_indices = sorted(set(range(X_train.shape[1])) - set(bottom_60_features))\n",
        "    X_train_reduced = X_train[:, remaining_feature_indices]\n",
        "    X_test_reduced = X_test[:, remaining_feature_indices]\n",
        "\n",
        "   # Remove the bottom 60 features\n",
        "\n",
        "    train_data_reduced = lgb.Dataset(X_train_reduced, label=y_train, group=group_train)\n",
        "    gbm_reduced = lgb.train(params, train_data_reduced)\n",
        "\n",
        "    # Evaluate the performance of the new model on the test set using nDCG\n",
        "    ndcg_3 = compute_ndcg_all(gbm_reduced,X_test_reduced, y_test, qid_test, k=3)\n",
        "    ndcg_5 = compute_ndcg_all(gbm_reduced,X_test_reduced, y_test, qid_test, k=5)\n",
        "    ndcg_10 = compute_ndcg_all(gbm_reduced,X_test_reduced, y_test, qid_test, k=10)\n",
        "\n",
        "    ndcg_values.append([ndcg_3, ndcg_5, ndcg_10])\n",
        "\n",
        "    # Report the model's performance on the test set\n",
        "    print(f\"Fold {fold + 1}:\")\n",
        "    print(f\"nDCG@3: {ndcg_3}\")\n",
        "    print(f\"nDCG@5: {ndcg_5}\")\n",
        "    print(f\"nDCG@10: {ndcg_10}\")\n",
        "    print(\"-----------------------------------------\")\n"
      ],
      "metadata": {
        "colab": {
          "base_uri": "https://localhost:8080/"
        },
        "id": "QvJjiz3Z3tQy",
        "outputId": "6a007678-5833-4c33-82a0-2511e934b52e"
      },
      "execution_count": 16,
      "outputs": [
        {
          "output_type": "stream",
          "name": "stdout",
          "text": [
            "[LightGBM] [Info] Auto-choosing row-wise multi-threading, the overhead of testing was 0.455896 seconds.\n",
            "You can set `force_row_wise=true` to remove the overhead.\n",
            "And if memory is not enough, you can set `force_col_wise=true`.\n",
            "[LightGBM] [Info] Total Bins 25637\n",
            "[LightGBM] [Info] Number of data points in the train set: 723412, number of used features: 136\n",
            "[LightGBM] [Info] Auto-choosing row-wise multi-threading, the overhead of testing was 0.225748 seconds.\n",
            "You can set `force_row_wise=true` to remove the overhead.\n",
            "And if memory is not enough, you can set `force_col_wise=true`.\n",
            "[LightGBM] [Info] Total Bins 16271\n",
            "[LightGBM] [Info] Number of data points in the train set: 723412, number of used features: 76\n",
            "Fold 1:\n",
            "nDCG@3: 0.4542530326427776\n",
            "nDCG@5: 0.46265744453383695\n",
            "nDCG@10: 0.4819713060930259\n",
            "-----------------------------------------\n",
            "[LightGBM] [Info] Auto-choosing row-wise multi-threading, the overhead of testing was 0.975597 seconds.\n",
            "You can set `force_row_wise=true` to remove the overhead.\n",
            "And if memory is not enough, you can set `force_col_wise=true`.\n",
            "[LightGBM] [Info] Total Bins 25623\n",
            "[LightGBM] [Info] Number of data points in the train set: 716683, number of used features: 136\n",
            "[LightGBM] [Info] Auto-choosing col-wise multi-threading, the overhead of testing was 0.970334 seconds.\n",
            "You can set `force_col_wise=true` to remove the overhead.\n",
            "[LightGBM] [Info] Total Bins 16780\n",
            "[LightGBM] [Info] Number of data points in the train set: 716683, number of used features: 76\n",
            "Fold 2:\n",
            "nDCG@3: 0.457290225801309\n",
            "nDCG@5: 0.4602669061430629\n",
            "nDCG@10: 0.4772534003341443\n",
            "-----------------------------------------\n",
            "[LightGBM] [Info] Auto-choosing row-wise multi-threading, the overhead of testing was 0.589331 seconds.\n",
            "You can set `force_row_wise=true` to remove the overhead.\n",
            "And if memory is not enough, you can set `force_col_wise=true`.\n",
            "[LightGBM] [Info] Total Bins 25659\n",
            "[LightGBM] [Info] Number of data points in the train set: 719111, number of used features: 136\n",
            "[LightGBM] [Info] Auto-choosing row-wise multi-threading, the overhead of testing was 0.222764 seconds.\n",
            "You can set `force_row_wise=true` to remove the overhead.\n",
            "And if memory is not enough, you can set `force_col_wise=true`.\n",
            "[LightGBM] [Info] Total Bins 17029\n",
            "[LightGBM] [Info] Number of data points in the train set: 719111, number of used features: 76\n",
            "Fold 3:\n",
            "nDCG@3: 0.4497901754692966\n",
            "nDCG@5: 0.4586395637756899\n",
            "nDCG@10: 0.4774361560299901\n",
            "-----------------------------------------\n",
            "[LightGBM] [Info] Auto-choosing row-wise multi-threading, the overhead of testing was 0.452153 seconds.\n",
            "You can set `force_row_wise=true` to remove the overhead.\n",
            "And if memory is not enough, you can set `force_col_wise=true`.\n",
            "[LightGBM] [Info] Total Bins 25631\n",
            "[LightGBM] [Info] Number of data points in the train set: 718768, number of used features: 136\n",
            "[LightGBM] [Info] Auto-choosing row-wise multi-threading, the overhead of testing was 0.286811 seconds.\n",
            "You can set `force_row_wise=true` to remove the overhead.\n",
            "And if memory is not enough, you can set `force_col_wise=true`.\n",
            "[LightGBM] [Info] Total Bins 16794\n",
            "[LightGBM] [Info] Number of data points in the train set: 718768, number of used features: 76\n",
            "Fold 4:\n",
            "nDCG@3: 0.46063528567047524\n",
            "nDCG@5: 0.46734032124732483\n",
            "nDCG@10: 0.48888147783549574\n",
            "-----------------------------------------\n",
            "[LightGBM] [Info] Auto-choosing row-wise multi-threading, the overhead of testing was 0.678307 seconds.\n",
            "You can set `force_row_wise=true` to remove the overhead.\n",
            "And if memory is not enough, you can set `force_col_wise=true`.\n",
            "[LightGBM] [Info] Total Bins 25501\n",
            "[LightGBM] [Info] Number of data points in the train set: 722602, number of used features: 136\n",
            "[LightGBM] [Info] Auto-choosing row-wise multi-threading, the overhead of testing was 0.250371 seconds.\n",
            "You can set `force_row_wise=true` to remove the overhead.\n",
            "And if memory is not enough, you can set `force_col_wise=true`.\n",
            "[LightGBM] [Info] Total Bins 16338\n",
            "[LightGBM] [Info] Number of data points in the train set: 722602, number of used features: 76\n",
            "Fold 5:\n",
            "nDCG@3: 0.470186124814149\n",
            "nDCG@5: 0.4733522942533459\n",
            "nDCG@10: 0.4908165844880891\n",
            "-----------------------------------------\n"
          ]
        }
      ]
    },
    {
      "cell_type": "code",
      "source": [
        "#Printing the values after removing the bottom 60 features and then finding the ndcg values for the reduced dataset\n",
        "for fold in range(5):\n",
        "  print(f\"Fold {fold + 1}:\")\n",
        "  print(f\"nDCG@3: {ndcg_values[fold][0]}\")\n",
        "  print(f\"nDCG@5: {ndcg_values[fold][1]}\")\n",
        "  print(f\"nDCG@10: {ndcg_values[fold][2]}\")\n",
        "  print(\"-----------------------------------------\")"
      ],
      "metadata": {
        "colab": {
          "base_uri": "https://localhost:8080/"
        },
        "id": "ma-BLZkg33ag",
        "outputId": "b142753b-2f47-4888-f187-f2bb9dac9f8b"
      },
      "execution_count": 17,
      "outputs": [
        {
          "output_type": "stream",
          "name": "stdout",
          "text": [
            "Fold 1:\n",
            "nDCG@3: 0.4542530326427776\n",
            "nDCG@5: 0.46265744453383695\n",
            "nDCG@10: 0.4819713060930259\n",
            "-----------------------------------------\n",
            "Fold 2:\n",
            "nDCG@3: 0.457290225801309\n",
            "nDCG@5: 0.4602669061430629\n",
            "nDCG@10: 0.4772534003341443\n",
            "-----------------------------------------\n",
            "Fold 3:\n",
            "nDCG@3: 0.4497901754692966\n",
            "nDCG@5: 0.4586395637756899\n",
            "nDCG@10: 0.4774361560299901\n",
            "-----------------------------------------\n",
            "Fold 4:\n",
            "nDCG@3: 0.46063528567047524\n",
            "nDCG@5: 0.46734032124732483\n",
            "nDCG@10: 0.48888147783549574\n",
            "-----------------------------------------\n",
            "Fold 5:\n",
            "nDCG@3: 0.470186124814149\n",
            "nDCG@5: 0.4733522942533459\n",
            "nDCG@10: 0.4908165844880891\n",
            "-----------------------------------------\n"
          ]
        }
      ]
    },
    {
      "cell_type": "markdown",
      "source": [
        "QUESTION 16:\n",
        "\n",
        "Experiments with Subset of Features:\n",
        "For each of the five provided folds:\n",
        "\n",
        "Remove the top 20 most important features according to the computed importance score in the question 15. Then train a new LightGBM model on the resulted 116 dimensional query- url data. Evaluate the performance of this new model on the test set using nDCG. Does the outcome align with your expectations? If not, please share your hypothesis regarding the potential reasons for this discrepancy.\n",
        "\n",
        ">Fold 1:\\\n",
        "nDCG@3: 0.37967488460229254\\\n",
        "nDCG@5: 0.3850299691938894\\\n",
        "nDCG@10: 0.4083636029390886\n",
        "\n",
        ">Fold 2:\\\n",
        "nDCG@3: 0.3739449461043477\\\n",
        "nDCG@5: 0.3819536013454118\\\n",
        "nDCG@10: 0.4045026694861529\n",
        "\n",
        ">Fold 3:\\\n",
        "nDCG@3: 0.3823833692306899\\\n",
        "nDCG@5: 0.3899961152757789\\\n",
        "nDCG@10: 0.4116363812695088\n",
        "\n",
        ">Fold 4:\\\n",
        "nDCG@3: 0.381976845689231\\\n",
        "nDCG@5: 0.39281004672399866\\\n",
        "nDCG@10: 0.4121071637228934\n",
        "\n",
        ">Fold 5:\\\n",
        "nDCG@3: 0.38428336621785103\\\n",
        "nDCG@5: 0.39216767580543455\\\n",
        "nDCG@10: 0.4166871494621703\n",
        "\n",
        "> Yes the output aligns with the expected output. If we remove the top 20 features, we expect the performance to drop. This is why we observe that for each folder, the performance decreases drastically since we removed the important features.\n",
        "\n",
        "Remove the 60 least important features according to the computed importance score in the question 15. Then train a new LightGBM model on the resulted 76 dimensional query-url data. Evaluate the performance of this new model on the test set using nDCG. Does the outcome align with your expectations? If not, please share your hypothesis regarding the potential reasons for this discrepancy.\n",
        "\n",
        ">Fold 1:\\\n",
        "nDCG@3: 0.4542530326427776\\\n",
        "nDCG@5: 0.46265744453383695\\\n",
        "nDCG@10: 0.4819713060930259\n",
        "\n",
        ">Fold 2:\\\n",
        "nDCG@3: 0.457290225801309\\\n",
        "nDCG@5: 0.4602669061430629\\\n",
        "nDCG@10: 0.4772534003341443\n",
        "\n",
        ">Fold 3:\\\n",
        "nDCG@3: 0.4497901754692966\\\n",
        "nDCG@5: 0.4586395637756899\\\n",
        "nDCG@10: 0.4774361560299901\n",
        "\n",
        ">Fold 4:\\\n",
        "nDCG@3: 0.46063528567047524\\\n",
        "nDCG@5: 0.46734032124732483\\\n",
        "nDCG@10: 0.48888147783549574\n",
        "\n",
        ">Fold 5:\\\n",
        "nDCG@3: 0.470186124814149\\\n",
        "nDCG@5: 0.4733522942533459\\\n",
        "nDCG@10: 0.4908165844880891\n",
        "\n",
        "\n",
        "> Yes the output aligns with the expected output. If we remove the bottom 60 features, we expect the performance to not drop drastically. This is because these features do not contribute majorly to the performance. This is why we observe that for each folder, the performance does not decrease much since we removed the least important features."
      ],
      "metadata": {
        "id": "vAxh86zyU-ou"
      }
    }
  ],
  "metadata": {
    "colab": {
      "toc_visible": true,
      "provenance": []
    },
    "kernelspec": {
      "display_name": "Python 3",
      "name": "python3"
    },
    "language_info": {
      "name": "python"
    }
  },
  "nbformat": 4,
  "nbformat_minor": 0
}